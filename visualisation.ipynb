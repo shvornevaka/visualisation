{
 "cells": [
  {
   "cell_type": "code",
   "execution_count": 3,
   "metadata": {
    "collapsed": true
   },
   "outputs": [],
   "source": [
    "import pandas as pd\n",
    "import numpy as np\n",
    "import matplotlib as mpl\n",
    "import matplotlib.pyplot as plt \n",
    "import matplotlib.mlab as mlab\n",
    "import seaborn as sns\n",
    "import statistics\n",
    "%matplotlib inline"
   ]
  },
  {
   "cell_type": "markdown",
   "metadata": {},
   "source": [
    "## 1 часть"
   ]
  },
  {
   "cell_type": "markdown",
   "metadata": {},
   "source": [
    "#### Скачиваем данные"
   ]
  },
  {
   "cell_type": "code",
   "execution_count": 4,
   "metadata": {
    "collapsed": false
   },
   "outputs": [],
   "source": [
    "years = range(1880,2011)\n",
    "pieces = []\n",
    "columns = ['name', 'gender', 'count']\n",
    "for year in years:\n",
    " path = 'https://raw.githubusercontent.com/wesm/pydata-book/2nd-edition/datasets/babynames/yob%d.txt' % year\n",
    " frame = pd.read_csv(path, delimiter=',', names=columns)\n",
    " frame['year'] = year\n",
    " pieces.append(frame)\n",
    "    \n",
    "# Concatenate everything into a single DataFrame\n",
    "names = pd.concat(pieces, ignore_index=True)    \n"
   ]
  },
  {
   "cell_type": "code",
   "execution_count": 5,
   "metadata": {
    "collapsed": false
   },
   "outputs": [
    {
     "data": {
      "text/html": [
       "<div>\n",
       "<table border=\"1\" class=\"dataframe\">\n",
       "  <thead>\n",
       "    <tr style=\"text-align: right;\">\n",
       "      <th></th>\n",
       "      <th>name</th>\n",
       "      <th>gender</th>\n",
       "      <th>count</th>\n",
       "      <th>year</th>\n",
       "    </tr>\n",
       "  </thead>\n",
       "  <tbody>\n",
       "    <tr>\n",
       "      <th>0</th>\n",
       "      <td>Mary</td>\n",
       "      <td>F</td>\n",
       "      <td>7065</td>\n",
       "      <td>1880</td>\n",
       "    </tr>\n",
       "    <tr>\n",
       "      <th>1</th>\n",
       "      <td>Anna</td>\n",
       "      <td>F</td>\n",
       "      <td>2604</td>\n",
       "      <td>1880</td>\n",
       "    </tr>\n",
       "    <tr>\n",
       "      <th>2</th>\n",
       "      <td>Emma</td>\n",
       "      <td>F</td>\n",
       "      <td>2003</td>\n",
       "      <td>1880</td>\n",
       "    </tr>\n",
       "    <tr>\n",
       "      <th>3</th>\n",
       "      <td>Elizabeth</td>\n",
       "      <td>F</td>\n",
       "      <td>1939</td>\n",
       "      <td>1880</td>\n",
       "    </tr>\n",
       "    <tr>\n",
       "      <th>4</th>\n",
       "      <td>Minnie</td>\n",
       "      <td>F</td>\n",
       "      <td>1746</td>\n",
       "      <td>1880</td>\n",
       "    </tr>\n",
       "  </tbody>\n",
       "</table>\n",
       "</div>"
      ],
      "text/plain": [
       "        name gender  count  year\n",
       "0       Mary      F   7065  1880\n",
       "1       Anna      F   2604  1880\n",
       "2       Emma      F   2003  1880\n",
       "3  Elizabeth      F   1939  1880\n",
       "4     Minnie      F   1746  1880"
      ]
     },
     "execution_count": 5,
     "metadata": {},
     "output_type": "execute_result"
    }
   ],
   "source": [
    "names.head()"
   ]
  },
  {
   "cell_type": "markdown",
   "metadata": {},
   "source": [
    "#### Визуализация общей динамики рождаемости обоих полов "
   ]
  },
  {
   "cell_type": "code",
   "execution_count": 6,
   "metadata": {
    "collapsed": false
   },
   "outputs": [],
   "source": [
    "count_gender = pd.crosstab(names['year'], names['gender'], values = names['count'], aggfunc=sum)"
   ]
  },
  {
   "cell_type": "code",
   "execution_count": 7,
   "metadata": {
    "collapsed": false
   },
   "outputs": [
    {
     "data": {
      "text/plain": [
       "<matplotlib.axes._subplots.AxesSubplot at 0x12e086128>"
      ]
     },
     "execution_count": 7,
     "metadata": {},
     "output_type": "execute_result"
    },
    {
     "data": {
      "image/png": "[encoded data removed]",
      "text/plain": [
       "<matplotlib.figure.Figure at 0x12e7d0668>"
      ]
     },
     "metadata": {},
     "output_type": "display_data"
    }
   ],
   "source": [
    "count_gender.plot()"
   ]
  },
  {
   "cell_type": "markdown",
   "metadata": {},
   "source": [
    "#### Cамые популярные имена за всю историю"
   ]
  },
  {
   "cell_type": "code",
   "execution_count": 8,
   "metadata": {
    "collapsed": false
   },
   "outputs": [],
   "source": [
    "F_names = names[names.gender == 'F'].groupby(['name','gender']).sum()\n",
    "F_names = F_names.drop(['year'], axis=1)\n",
    "M_names = names[names.gender == 'M'].groupby(['name','gender']).sum()\n",
    "M_names = M_names.drop(['year'], axis=1)"
   ]
  },
  {
   "cell_type": "code",
   "execution_count": 9,
   "metadata": {
    "collapsed": false
   },
   "outputs": [],
   "source": [
    "top5_F_names = F_names.sort_values(by='count', ascending=False).head()\n",
    "top5_M_names = M_names.sort_values(by='count', ascending=False).head()"
   ]
  },
  {
   "cell_type": "code",
   "execution_count": 10,
   "metadata": {
    "collapsed": false
   },
   "outputs": [
    {
     "data": {
      "text/html": [
       "<div>\n",
       "<table border=\"1\" class=\"dataframe\">\n",
       "  <thead>\n",
       "    <tr style=\"text-align: right;\">\n",
       "      <th></th>\n",
       "      <th></th>\n",
       "      <th>count</th>\n",
       "    </tr>\n",
       "    <tr>\n",
       "      <th>name</th>\n",
       "      <th>gender</th>\n",
       "      <th></th>\n",
       "    </tr>\n",
       "  </thead>\n",
       "  <tbody>\n",
       "    <tr>\n",
       "      <th>Mary</th>\n",
       "      <th>F</th>\n",
       "      <td>4103935</td>\n",
       "    </tr>\n",
       "    <tr>\n",
       "      <th>Patricia</th>\n",
       "      <th>F</th>\n",
       "      <td>1568742</td>\n",
       "    </tr>\n",
       "    <tr>\n",
       "      <th>Elizabeth</th>\n",
       "      <th>F</th>\n",
       "      <td>1561874</td>\n",
       "    </tr>\n",
       "    <tr>\n",
       "      <th>Jennifer</th>\n",
       "      <th>F</th>\n",
       "      <td>1455078</td>\n",
       "    </tr>\n",
       "    <tr>\n",
       "      <th>Linda</th>\n",
       "      <th>F</th>\n",
       "      <td>1448771</td>\n",
       "    </tr>\n",
       "    <tr>\n",
       "      <th>James</th>\n",
       "      <th>M</th>\n",
       "      <td>5049727</td>\n",
       "    </tr>\n",
       "    <tr>\n",
       "      <th>John</th>\n",
       "      <th>M</th>\n",
       "      <td>5040319</td>\n",
       "    </tr>\n",
       "    <tr>\n",
       "      <th>Robert</th>\n",
       "      <th>M</th>\n",
       "      <td>4767995</td>\n",
       "    </tr>\n",
       "    <tr>\n",
       "      <th>Michael</th>\n",
       "      <th>M</th>\n",
       "      <td>4243903</td>\n",
       "    </tr>\n",
       "    <tr>\n",
       "      <th>William</th>\n",
       "      <th>M</th>\n",
       "      <td>3986586</td>\n",
       "    </tr>\n",
       "  </tbody>\n",
       "</table>\n",
       "</div>"
      ],
      "text/plain": [
       "                    count\n",
       "name      gender         \n",
       "Mary      F       4103935\n",
       "Patricia  F       1568742\n",
       "Elizabeth F       1561874\n",
       "Jennifer  F       1455078\n",
       "Linda     F       1448771\n",
       "James     M       5049727\n",
       "John      M       5040319\n",
       "Robert    M       4767995\n",
       "Michael   M       4243903\n",
       "William   M       3986586"
      ]
     },
     "execution_count": 10,
     "metadata": {},
     "output_type": "execute_result"
    }
   ],
   "source": [
    "top5_F_names.append(top5_M_names)"
   ]
  },
  {
   "cell_type": "markdown",
   "metadata": {},
   "source": [
    "#### Разбить весь временной промежуток в данных на 10 частей и для каждой найти самое популярное имя каждого пола."
   ]
  },
  {
   "cell_type": "code",
   "execution_count": 11,
   "metadata": {
    "collapsed": false
   },
   "outputs": [],
   "source": [
    "names['group'] = 0\n",
    "names.loc[(names.year >= 1880) & (names.year <= 1893), \"group\"] = 1\n",
    "names.loc[(names.year >= 1894) & (names.year <= 1907), \"group\"] = 2\n",
    "names.loc[(names.year >= 1908) & (names.year <= 1921), \"group\"] = 3\n",
    "names.loc[(names.year >= 1922) & (names.year <= 1935), \"group\"] = 4\n",
    "names.loc[(names.year >= 1936) & (names.year <= 1949), \"group\"] = 5\n",
    "names.loc[(names.year >= 1950) & (names.year <= 1963), \"group\"] = 6\n",
    "names.loc[(names.year >= 1964) & (names.year <= 1977), \"group\"] = 7\n",
    "names.loc[(names.year >= 1978) & (names.year <= 1981), \"group\"] = 8\n",
    "names.loc[(names.year >= 1982) & (names.year <= 1995), \"group\"] = 9\n",
    "names.loc[(names.year >= 1996) & (names.year <= 2010), \"group\"] = 10"
   ]
  },
  {
   "cell_type": "code",
   "execution_count": 12,
   "metadata": {
    "collapsed": false
   },
   "outputs": [
    {
     "data": {
      "text/html": [
       "<div>\n",
       "<table border=\"1\" class=\"dataframe\">\n",
       "  <thead>\n",
       "    <tr style=\"text-align: right;\">\n",
       "      <th></th>\n",
       "      <th>name</th>\n",
       "      <th>group</th>\n",
       "      <th>gender</th>\n",
       "      <th>count</th>\n",
       "    </tr>\n",
       "  </thead>\n",
       "  <tbody>\n",
       "    <tr>\n",
       "      <th>0</th>\n",
       "      <td>Aaban</td>\n",
       "      <td>10</td>\n",
       "      <td>M</td>\n",
       "      <td>20</td>\n",
       "    </tr>\n",
       "    <tr>\n",
       "      <th>1</th>\n",
       "      <td>Aabid</td>\n",
       "      <td>10</td>\n",
       "      <td>M</td>\n",
       "      <td>5</td>\n",
       "    </tr>\n",
       "    <tr>\n",
       "      <th>2</th>\n",
       "      <td>Aabriella</td>\n",
       "      <td>10</td>\n",
       "      <td>F</td>\n",
       "      <td>5</td>\n",
       "    </tr>\n",
       "  </tbody>\n",
       "</table>\n",
       "</div>"
      ],
      "text/plain": [
       "        name  group gender  count\n",
       "0      Aaban     10      M     20\n",
       "1      Aabid     10      M      5\n",
       "2  Aabriella     10      F      5"
      ]
     },
     "execution_count": 12,
     "metadata": {},
     "output_type": "execute_result"
    }
   ],
   "source": [
    "count_namegroup = names.groupby(['name','group','gender'], as_index=False).sum()\n",
    "count_namegroup = count_namegroup.drop(['year'], axis=1)\n",
    "count_namegroup[0:3]"
   ]
  },
  {
   "cell_type": "code",
   "execution_count": 13,
   "metadata": {
    "collapsed": false
   },
   "outputs": [
    {
     "data": {
      "text/html": [
       "<div>\n",
       "<table border=\"1\" class=\"dataframe\">\n",
       "  <thead>\n",
       "    <tr style=\"text-align: right;\">\n",
       "      <th></th>\n",
       "      <th>group</th>\n",
       "      <th>gender</th>\n",
       "      <th>count</th>\n",
       "    </tr>\n",
       "  </thead>\n",
       "  <tbody>\n",
       "    <tr>\n",
       "      <th>0</th>\n",
       "      <td>1</td>\n",
       "      <td>F</td>\n",
       "      <td>141412</td>\n",
       "    </tr>\n",
       "    <tr>\n",
       "      <th>1</th>\n",
       "      <td>1</td>\n",
       "      <td>M</td>\n",
       "      <td>123220</td>\n",
       "    </tr>\n",
       "    <tr>\n",
       "      <th>2</th>\n",
       "      <td>2</td>\n",
       "      <td>F</td>\n",
       "      <td>204984</td>\n",
       "    </tr>\n",
       "  </tbody>\n",
       "</table>\n",
       "</div>"
      ],
      "text/plain": [
       "   group gender   count\n",
       "0      1      F  141412\n",
       "1      1      M  123220\n",
       "2      2      F  204984"
      ]
     },
     "execution_count": 13,
     "metadata": {},
     "output_type": "execute_result"
    }
   ],
   "source": [
    "count_namegroup1 = count_namegroup.drop(['name'], axis=1)\n",
    "count_namegroup2 = count_namegroup1.groupby(['group','gender'], as_index=False).max()\n",
    "count_namegroup2[0:3] "
   ]
  },
  {
   "cell_type": "code",
   "execution_count": 14,
   "metadata": {
    "collapsed": false
   },
   "outputs": [],
   "source": [
    "result = pd.merge(count_namegroup2,count_namegroup, on=['group', 'gender','count'], how='inner')"
   ]
  },
  {
   "cell_type": "code",
   "execution_count": 15,
   "metadata": {
    "collapsed": false
   },
   "outputs": [
    {
     "data": {
      "text/html": [
       "<div>\n",
       "<table border=\"1\" class=\"dataframe\">\n",
       "  <thead>\n",
       "    <tr style=\"text-align: right;\">\n",
       "      <th></th>\n",
       "      <th>group</th>\n",
       "      <th>gender</th>\n",
       "      <th>count</th>\n",
       "      <th>name</th>\n",
       "    </tr>\n",
       "  </thead>\n",
       "  <tbody>\n",
       "    <tr>\n",
       "      <th>0</th>\n",
       "      <td>1</td>\n",
       "      <td>F</td>\n",
       "      <td>141412</td>\n",
       "      <td>Mary</td>\n",
       "    </tr>\n",
       "    <tr>\n",
       "      <th>1</th>\n",
       "      <td>1</td>\n",
       "      <td>M</td>\n",
       "      <td>123220</td>\n",
       "      <td>John</td>\n",
       "    </tr>\n",
       "    <tr>\n",
       "      <th>2</th>\n",
       "      <td>2</td>\n",
       "      <td>F</td>\n",
       "      <td>204984</td>\n",
       "      <td>Mary</td>\n",
       "    </tr>\n",
       "    <tr>\n",
       "      <th>3</th>\n",
       "      <td>2</td>\n",
       "      <td>M</td>\n",
       "      <td>113061</td>\n",
       "      <td>John</td>\n",
       "    </tr>\n",
       "    <tr>\n",
       "      <th>4</th>\n",
       "      <td>3</td>\n",
       "      <td>F</td>\n",
       "      <td>661462</td>\n",
       "      <td>Mary</td>\n",
       "    </tr>\n",
       "    <tr>\n",
       "      <th>5</th>\n",
       "      <td>3</td>\n",
       "      <td>M</td>\n",
       "      <td>510381</td>\n",
       "      <td>John</td>\n",
       "    </tr>\n",
       "    <tr>\n",
       "      <th>6</th>\n",
       "      <td>4</td>\n",
       "      <td>F</td>\n",
       "      <td>908386</td>\n",
       "      <td>Mary</td>\n",
       "    </tr>\n",
       "    <tr>\n",
       "      <th>7</th>\n",
       "      <td>4</td>\n",
       "      <td>M</td>\n",
       "      <td>823130</td>\n",
       "      <td>Robert</td>\n",
       "    </tr>\n",
       "    <tr>\n",
       "      <th>8</th>\n",
       "      <td>5</td>\n",
       "      <td>F</td>\n",
       "      <td>860956</td>\n",
       "      <td>Mary</td>\n",
       "    </tr>\n",
       "    <tr>\n",
       "      <th>9</th>\n",
       "      <td>5</td>\n",
       "      <td>M</td>\n",
       "      <td>1025087</td>\n",
       "      <td>James</td>\n",
       "    </tr>\n",
       "    <tr>\n",
       "      <th>10</th>\n",
       "      <td>6</td>\n",
       "      <td>F</td>\n",
       "      <td>809551</td>\n",
       "      <td>Mary</td>\n",
       "    </tr>\n",
       "    <tr>\n",
       "      <th>11</th>\n",
       "      <td>6</td>\n",
       "      <td>M</td>\n",
       "      <td>1176591</td>\n",
       "      <td>Michael</td>\n",
       "    </tr>\n",
       "    <tr>\n",
       "      <th>12</th>\n",
       "      <td>7</td>\n",
       "      <td>F</td>\n",
       "      <td>593829</td>\n",
       "      <td>Jennifer</td>\n",
       "    </tr>\n",
       "    <tr>\n",
       "      <th>13</th>\n",
       "      <td>7</td>\n",
       "      <td>M</td>\n",
       "      <td>1066034</td>\n",
       "      <td>Michael</td>\n",
       "    </tr>\n",
       "    <tr>\n",
       "      <th>14</th>\n",
       "      <td>8</td>\n",
       "      <td>F</td>\n",
       "      <td>228420</td>\n",
       "      <td>Jennifer</td>\n",
       "    </tr>\n",
       "    <tr>\n",
       "      <th>15</th>\n",
       "      <td>8</td>\n",
       "      <td>M</td>\n",
       "      <td>272157</td>\n",
       "      <td>Michael</td>\n",
       "    </tr>\n",
       "    <tr>\n",
       "      <th>16</th>\n",
       "      <td>9</td>\n",
       "      <td>F</td>\n",
       "      <td>616117</td>\n",
       "      <td>Jessica</td>\n",
       "    </tr>\n",
       "    <tr>\n",
       "      <th>17</th>\n",
       "      <td>9</td>\n",
       "      <td>M</td>\n",
       "      <td>841729</td>\n",
       "      <td>Michael</td>\n",
       "    </tr>\n",
       "    <tr>\n",
       "      <th>18</th>\n",
       "      <td>10</td>\n",
       "      <td>F</td>\n",
       "      <td>341174</td>\n",
       "      <td>Emily</td>\n",
       "    </tr>\n",
       "    <tr>\n",
       "      <th>19</th>\n",
       "      <td>10</td>\n",
       "      <td>M</td>\n",
       "      <td>432541</td>\n",
       "      <td>Jacob</td>\n",
       "    </tr>\n",
       "  </tbody>\n",
       "</table>\n",
       "</div>"
      ],
      "text/plain": [
       "    group gender    count      name\n",
       "0       1      F   141412      Mary\n",
       "1       1      M   123220      John\n",
       "2       2      F   204984      Mary\n",
       "3       2      M   113061      John\n",
       "4       3      F   661462      Mary\n",
       "5       3      M   510381      John\n",
       "6       4      F   908386      Mary\n",
       "7       4      M   823130    Robert\n",
       "8       5      F   860956      Mary\n",
       "9       5      M  1025087     James\n",
       "10      6      F   809551      Mary\n",
       "11      6      M  1176591   Michael\n",
       "12      7      F   593829  Jennifer\n",
       "13      7      M  1066034   Michael\n",
       "14      8      F   228420  Jennifer\n",
       "15      8      M   272157   Michael\n",
       "16      9      F   616117   Jessica\n",
       "17      9      M   841729   Michael\n",
       "18     10      F   341174     Emily\n",
       "19     10      M   432541     Jacob"
      ]
     },
     "execution_count": 15,
     "metadata": {},
     "output_type": "execute_result"
    }
   ],
   "source": [
    "result"
   ]
  },
  {
   "cell_type": "code",
   "execution_count": 16,
   "metadata": {
    "collapsed": false
   },
   "outputs": [
    {
     "data": {
      "text/html": [
       "<div>\n",
       "<table border=\"1\" class=\"dataframe\">\n",
       "  <thead>\n",
       "    <tr style=\"text-align: right;\">\n",
       "      <th></th>\n",
       "      <th>gender</th>\n",
       "      <th>name</th>\n",
       "    </tr>\n",
       "  </thead>\n",
       "  <tbody>\n",
       "    <tr>\n",
       "      <th>0</th>\n",
       "      <td>F</td>\n",
       "      <td>Mary</td>\n",
       "    </tr>\n",
       "    <tr>\n",
       "      <th>1</th>\n",
       "      <td>M</td>\n",
       "      <td>John</td>\n",
       "    </tr>\n",
       "    <tr>\n",
       "      <th>7</th>\n",
       "      <td>M</td>\n",
       "      <td>Robert</td>\n",
       "    </tr>\n",
       "    <tr>\n",
       "      <th>9</th>\n",
       "      <td>M</td>\n",
       "      <td>James</td>\n",
       "    </tr>\n",
       "    <tr>\n",
       "      <th>11</th>\n",
       "      <td>M</td>\n",
       "      <td>Michael</td>\n",
       "    </tr>\n",
       "    <tr>\n",
       "      <th>12</th>\n",
       "      <td>F</td>\n",
       "      <td>Jennifer</td>\n",
       "    </tr>\n",
       "    <tr>\n",
       "      <th>16</th>\n",
       "      <td>F</td>\n",
       "      <td>Jessica</td>\n",
       "    </tr>\n",
       "    <tr>\n",
       "      <th>18</th>\n",
       "      <td>F</td>\n",
       "      <td>Emily</td>\n",
       "    </tr>\n",
       "    <tr>\n",
       "      <th>19</th>\n",
       "      <td>M</td>\n",
       "      <td>Jacob</td>\n",
       "    </tr>\n",
       "  </tbody>\n",
       "</table>\n",
       "</div>"
      ],
      "text/plain": [
       "   gender      name\n",
       "0       F      Mary\n",
       "1       M      John\n",
       "7       M    Robert\n",
       "9       M     James\n",
       "11      M   Michael\n",
       "12      F  Jennifer\n",
       "16      F   Jessica\n",
       "18      F     Emily\n",
       "19      M     Jacob"
      ]
     },
     "execution_count": 16,
     "metadata": {},
     "output_type": "execute_result"
    }
   ],
   "source": [
    "popular_name = result[['gender','name']].drop_duplicates()\n",
    "popular_name"
   ]
  },
  {
   "cell_type": "code",
   "execution_count": 17,
   "metadata": {
    "collapsed": false
   },
   "outputs": [
    {
     "data": {
      "text/plain": [
       "<matplotlib.axes._subplots.AxesSubplot at 0x12a379b70>"
      ]
     },
     "execution_count": 17,
     "metadata": {},
     "output_type": "execute_result"
    },
    {
     "data": {
      "image/png": "[encoded data removed]",
      "text/plain": [
       "<matplotlib.figure.Figure at 0x12a37add8>"
      ]
     },
     "metadata": {},
     "output_type": "display_data"
    }
   ],
   "source": [
    "result_visualisation = pd.merge(popular_name,names, on=['name','gender'],how = 'left')\n",
    "result_visualisation = result_visualisation.drop(['group','gender'],axis = 1)\n",
    "result_visualisation = pd.crosstab( index = result_visualisation['year'],columns = result_visualisation['name'], values = result_visualisation['count'], aggfunc = max )\n",
    "result_visualisation.plot()"
   ]
  },
  {
   "cell_type": "markdown",
   "metadata": {},
   "source": [
    "#### Сколько имен покрывают 50% людей в каждом году"
   ]
  },
  {
   "cell_type": "markdown",
   "metadata": {},
   "source": [
    "Расчитаем пропорцию имени к общему количеству имен в году"
   ]
  },
  {
   "cell_type": "code",
   "execution_count": 18,
   "metadata": {
    "collapsed": false
   },
   "outputs": [],
   "source": [
    "def add_prop(group):\n",
    " # Integer division floors\n",
    " count =  group['count'].astype(float)\n",
    " group['prop'] = count/count.sum()\n",
    " return group\n",
    "names = names.groupby(['year', 'gender']).apply(add_prop)"
   ]
  },
  {
   "cell_type": "markdown",
   "metadata": {},
   "source": [
    "Находим сколько имен покрывают 50% людей"
   ]
  },
  {
   "cell_type": "code",
   "execution_count": 19,
   "metadata": {
    "collapsed": false
   },
   "outputs": [],
   "source": [
    "def get_quantile_count(group, q=0.5):\n",
    " group = group.sort_values(by='prop', ascending=False)\n",
    " return group.prop.cumsum().searchsorted(q) + 1\n",
    "diversity = names.groupby(['year', 'gender']).apply(get_quantile_count)\n",
    "diversity = diversity.unstack('gender')"
   ]
  },
  {
   "cell_type": "code",
   "execution_count": 20,
   "metadata": {
    "collapsed": false
   },
   "outputs": [
    {
     "data": {
      "text/html": [
       "<div>\n",
       "<table border=\"1\" class=\"dataframe\">\n",
       "  <thead>\n",
       "    <tr style=\"text-align: right;\">\n",
       "      <th>gender</th>\n",
       "      <th>F</th>\n",
       "      <th>M</th>\n",
       "    </tr>\n",
       "    <tr>\n",
       "      <th>year</th>\n",
       "      <th></th>\n",
       "      <th></th>\n",
       "    </tr>\n",
       "  </thead>\n",
       "  <tbody>\n",
       "    <tr>\n",
       "      <th>1880</th>\n",
       "      <td>[38]</td>\n",
       "      <td>[14]</td>\n",
       "    </tr>\n",
       "    <tr>\n",
       "      <th>1881</th>\n",
       "      <td>[38]</td>\n",
       "      <td>[14]</td>\n",
       "    </tr>\n",
       "    <tr>\n",
       "      <th>1882</th>\n",
       "      <td>[38]</td>\n",
       "      <td>[15]</td>\n",
       "    </tr>\n",
       "    <tr>\n",
       "      <th>1883</th>\n",
       "      <td>[39]</td>\n",
       "      <td>[15]</td>\n",
       "    </tr>\n",
       "    <tr>\n",
       "      <th>1884</th>\n",
       "      <td>[39]</td>\n",
       "      <td>[16]</td>\n",
       "    </tr>\n",
       "  </tbody>\n",
       "</table>\n",
       "</div>"
      ],
      "text/plain": [
       "gender     F     M\n",
       "year              \n",
       "1880    [38]  [14]\n",
       "1881    [38]  [14]\n",
       "1882    [38]  [15]\n",
       "1883    [39]  [15]\n",
       "1884    [39]  [16]"
      ]
     },
     "execution_count": 20,
     "metadata": {},
     "output_type": "execute_result"
    }
   ],
   "source": [
    "diversity[0:5]"
   ]
  },
  {
   "cell_type": "code",
   "execution_count": 21,
   "metadata": {
    "collapsed": false
   },
   "outputs": [
    {
     "data": {
      "text/plain": [
       "<matplotlib.axes._subplots.AxesSubplot at 0x125b617f0>"
      ]
     },
     "execution_count": 21,
     "metadata": {},
     "output_type": "execute_result"
    },
    {
     "data": {
      "image/png": "[encoded data removed]",
      "text/plain": [
       "<matplotlib.figure.Figure at 0x126e2f4a8>"
      ]
     },
     "metadata": {},
     "output_type": "display_data"
    }
   ],
   "source": [
    "diversity.F = diversity.F.astype(int)\n",
    "diversity.M = diversity.M.astype(int)\n",
    "diversity.plot()"
   ]
  },
  {
   "cell_type": "markdown",
   "metadata": {},
   "source": [
    "Имена девушек всегда были более разнообразными, чем имена мальчиков и с течением времени это разнообразие растет."
   ]
  },
  {
   "cell_type": "markdown",
   "metadata": {},
   "source": [
    "#### Распределение по первой и по последней букве в имени"
   ]
  },
  {
   "cell_type": "markdown",
   "metadata": {},
   "source": [
    "по последней букве"
   ]
  },
  {
   "cell_type": "code",
   "execution_count": 22,
   "metadata": {
    "collapsed": false
   },
   "outputs": [],
   "source": [
    "get_last_letter = lambda x: x[-1]\n",
    "last_letters = names.name.map(get_last_letter)\n",
    "last_letters.name = 'last_letter'\n",
    "last_table = names.pivot_table('count', last_letters, columns=['gender', 'year'], aggfunc=sum)"
   ]
  },
  {
   "cell_type": "markdown",
   "metadata": {},
   "source": [
    "по первой букве"
   ]
  },
  {
   "cell_type": "code",
   "execution_count": 23,
   "metadata": {
    "collapsed": false
   },
   "outputs": [],
   "source": [
    "get_first_letter = lambda x: x[1]\n",
    "first_letters = names.name.map(get_first_letter)\n",
    "first_letters.name = 'first_letter'\n",
    "first_table = names.pivot_table('count', first_letters, columns=['gender', 'year'], aggfunc=sum)"
   ]
  },
  {
   "cell_type": "markdown",
   "metadata": {},
   "source": [
    "выбираем 4 года"
   ]
  },
  {
   "cell_type": "code",
   "execution_count": 24,
   "metadata": {
    "collapsed": false
   },
   "outputs": [],
   "source": [
    "sub_last_table = last_table.reindex(columns=[1920, 1960, 1980, 2010], level='year')\n",
    "sub_first_table = first_table.reindex(columns=[1920, 1960, 1980, 2010], level='year')"
   ]
  },
  {
   "cell_type": "markdown",
   "metadata": {},
   "source": [
    "Вычисляем новые таблицы с пропорцями от всех имен для каждого пола, заканчивающегося/начинающегося на каждую букву:"
   ]
  },
  {
   "cell_type": "code",
   "execution_count": 25,
   "metadata": {
    "collapsed": true
   },
   "outputs": [],
   "source": [
    "last_letter_prop = sub_last_table / sub_last_table.sum().astype(float)\n",
    "first_letter_prop = sub_first_table / sub_first_table.sum().astype(float)"
   ]
  },
  {
   "cell_type": "code",
   "execution_count": 26,
   "metadata": {
    "collapsed": false
   },
   "outputs": [
    {
     "data": {
      "text/plain": [
       "<matplotlib.axes._subplots.AxesSubplot at 0x12443a898>"
      ]
     },
     "execution_count": 26,
     "metadata": {},
     "output_type": "execute_result"
    },
    {
     "data": {
      "image/png": "[encoded data removed]",
      "text/plain": [
       "<matplotlib.figure.Figure at 0x1248e2320>"
      ]
     },
     "metadata": {},
     "output_type": "display_data"
    }
   ],
   "source": [
    "fig, axes = plt.subplots(2, 2, figsize=(16, 10))\n",
    "last_letter_prop['M'].plot(kind='bar', rot=0, ax=axes[0][0], title='Male')\n",
    "last_letter_prop['F'].plot(kind='bar', rot=0, ax=axes[1][0], title='Female')\n",
    "first_letter_prop['M'].plot(kind='bar', rot=0, ax=axes[0][1], title='Male')\n",
    "first_letter_prop['F'].plot(kind='bar', rot=0, ax=axes[1][1], title='Female')"
   ]
  },
  {
   "cell_type": "markdown",
   "metadata": {},
   "source": [
    "Вывод: Чаще всего мужские имена начинаются на 'a' и заканчиваются на 'n', женские и начинаются и заканчиваются на 'a'"
   ]
  },
  {
   "cell_type": "markdown",
   "metadata": {},
   "source": [
    "#### Влияние знаменитостей на динамику имен"
   ]
  },
  {
   "cell_type": "markdown",
   "metadata": {},
   "source": [
    "Список знаменитостей :\n",
    "Charles Chaplin - born 1889 - 1929,\n",
    "Audrey Hepburn - born 1929 - 1950-1970,\n",
    "Marilyn Monroe - born 1926 - 1950-1970"
   ]
  },
  {
   "cell_type": "code",
   "execution_count": 27,
   "metadata": {
    "collapsed": false
   },
   "outputs": [],
   "source": [
    "sub_names = names[(names.name == 'Charles')|(names.name == 'Audrey')|(names.name == 'Marilyn')]"
   ]
  },
  {
   "cell_type": "code",
   "execution_count": 28,
   "metadata": {
    "collapsed": false
   },
   "outputs": [
    {
     "data": {
      "text/plain": [
       "<matplotlib.axes._subplots.AxesSubplot at 0x1258781d0>"
      ]
     },
     "execution_count": 28,
     "metadata": {},
     "output_type": "execute_result"
    },
    {
     "data": {
      "image/png": "[encoded data removed]",
      "text/plain": [
       "<matplotlib.figure.Figure at 0x12a2344a8>"
      ]
     },
     "metadata": {},
     "output_type": "display_data"
    }
   ],
   "source": [
    "count_name = pd.crosstab(sub_names['year'], sub_names['name'], values = sub_names['count'], aggfunc=sum)\n",
    "count_name.plot()"
   ]
  },
  {
   "cell_type": "code",
   "execution_count": 29,
   "metadata": {
    "collapsed": false
   },
   "outputs": [
    {
     "data": {
      "text/plain": [
       "<matplotlib.axes._subplots.AxesSubplot at 0x124708588>"
      ]
     },
     "execution_count": 29,
     "metadata": {},
     "output_type": "execute_result"
    },
    {
     "data": {
      "image/png": "[encoded data removed]",
      "text/plain": [
       "<matplotlib.figure.Figure at 0x12627e668>"
      ]
     },
     "metadata": {},
     "output_type": "display_data"
    }
   ],
   "source": [
    "prop_name = pd.crosstab(sub_names['year'], sub_names['name'], values = sub_names['prop'], aggfunc=sum)\n",
    "prop_name.plot()"
   ]
  },
  {
   "cell_type": "markdown",
   "metadata": {},
   "source": [
    "Вывод: Charles Chaplin вполне возможно повлиял на небольшой скачек в 30х годах, Marilyn Monroe и Audrey Hepburn не оказали влияние на динамику имен. "
   ]
  },
  {
   "cell_type": "markdown",
   "metadata": {},
   "source": [
    "## 2 часть"
   ]
  },
  {
   "cell_type": "markdown",
   "metadata": {
    "collapsed": true
   },
   "source": [
    "#### Анализ активности пользователей \n",
    "yearmonth = год/месяц, year - год, month - месяц, n_visit - количество активных дней в месяц, user_id - пользователь"
   ]
  },
  {
   "cell_type": "code",
   "execution_count": 30,
   "metadata": {
    "collapsed": false
   },
   "outputs": [
    {
     "data": {
      "text/html": [
       "<div>\n",
       "<table border=\"1\" class=\"dataframe\">\n",
       "  <thead>\n",
       "    <tr style=\"text-align: right;\">\n",
       "      <th></th>\n",
       "      <th>Unnamed: 0</th>\n",
       "      <th>yearmonth</th>\n",
       "      <th>year</th>\n",
       "      <th>month</th>\n",
       "      <th>n_visit</th>\n",
       "      <th>user_id</th>\n",
       "    </tr>\n",
       "  </thead>\n",
       "  <tbody>\n",
       "    <tr>\n",
       "      <th>0</th>\n",
       "      <td>0</td>\n",
       "      <td>201604</td>\n",
       "      <td>2016</td>\n",
       "      <td>4</td>\n",
       "      <td>26</td>\n",
       "      <td>42744</td>\n",
       "    </tr>\n",
       "    <tr>\n",
       "      <th>1</th>\n",
       "      <td>1</td>\n",
       "      <td>201607</td>\n",
       "      <td>2016</td>\n",
       "      <td>7</td>\n",
       "      <td>30</td>\n",
       "      <td>42744</td>\n",
       "    </tr>\n",
       "    <tr>\n",
       "      <th>2</th>\n",
       "      <td>2</td>\n",
       "      <td>201606</td>\n",
       "      <td>2016</td>\n",
       "      <td>6</td>\n",
       "      <td>28</td>\n",
       "      <td>42744</td>\n",
       "    </tr>\n",
       "    <tr>\n",
       "      <th>3</th>\n",
       "      <td>3</td>\n",
       "      <td>201605</td>\n",
       "      <td>2016</td>\n",
       "      <td>5</td>\n",
       "      <td>31</td>\n",
       "      <td>42744</td>\n",
       "    </tr>\n",
       "    <tr>\n",
       "      <th>4</th>\n",
       "      <td>4</td>\n",
       "      <td>201603</td>\n",
       "      <td>2016</td>\n",
       "      <td>3</td>\n",
       "      <td>25</td>\n",
       "      <td>42744</td>\n",
       "    </tr>\n",
       "  </tbody>\n",
       "</table>\n",
       "</div>"
      ],
      "text/plain": [
       "   Unnamed: 0  yearmonth  year  month  n_visit  user_id\n",
       "0           0     201604  2016      4       26    42744\n",
       "1           1     201607  2016      7       30    42744\n",
       "2           2     201606  2016      6       28    42744\n",
       "3           3     201605  2016      5       31    42744\n",
       "4           4     201603  2016      3       25    42744"
      ]
     },
     "execution_count": 30,
     "metadata": {},
     "output_type": "execute_result"
    }
   ],
   "source": [
    "df = pd.read_csv('user_activity.csv', sep = ',',low_memory=False)\n",
    "df.head()"
   ]
  },
  {
   "cell_type": "code",
   "execution_count": 31,
   "metadata": {
    "collapsed": true
   },
   "outputs": [],
   "source": [
    "df = df.drop('Unnamed: 0', axis = 1)"
   ]
  },
  {
   "cell_type": "code",
   "execution_count": 32,
   "metadata": {
    "collapsed": false
   },
   "outputs": [
    {
     "data": {
      "text/html": [
       "<div>\n",
       "<table border=\"1\" class=\"dataframe\">\n",
       "  <thead>\n",
       "    <tr style=\"text-align: right;\">\n",
       "      <th></th>\n",
       "      <th>user_id</th>\n",
       "      <th>yearmonth</th>\n",
       "      <th>year</th>\n",
       "      <th>month</th>\n",
       "      <th>n_visit</th>\n",
       "      <th>CohortGroup</th>\n",
       "    </tr>\n",
       "  </thead>\n",
       "  <tbody>\n",
       "    <tr>\n",
       "      <th>0</th>\n",
       "      <td>42744</td>\n",
       "      <td>201604</td>\n",
       "      <td>2016</td>\n",
       "      <td>4</td>\n",
       "      <td>26</td>\n",
       "      <td>201603</td>\n",
       "    </tr>\n",
       "    <tr>\n",
       "      <th>1</th>\n",
       "      <td>42744</td>\n",
       "      <td>201607</td>\n",
       "      <td>2016</td>\n",
       "      <td>7</td>\n",
       "      <td>30</td>\n",
       "      <td>201603</td>\n",
       "    </tr>\n",
       "    <tr>\n",
       "      <th>2</th>\n",
       "      <td>42744</td>\n",
       "      <td>201606</td>\n",
       "      <td>2016</td>\n",
       "      <td>6</td>\n",
       "      <td>28</td>\n",
       "      <td>201603</td>\n",
       "    </tr>\n",
       "    <tr>\n",
       "      <th>3</th>\n",
       "      <td>42744</td>\n",
       "      <td>201605</td>\n",
       "      <td>2016</td>\n",
       "      <td>5</td>\n",
       "      <td>31</td>\n",
       "      <td>201603</td>\n",
       "    </tr>\n",
       "    <tr>\n",
       "      <th>4</th>\n",
       "      <td>42744</td>\n",
       "      <td>201603</td>\n",
       "      <td>2016</td>\n",
       "      <td>3</td>\n",
       "      <td>25</td>\n",
       "      <td>201603</td>\n",
       "    </tr>\n",
       "  </tbody>\n",
       "</table>\n",
       "</div>"
      ],
      "text/plain": [
       "   user_id  yearmonth  year  month  n_visit  CohortGroup\n",
       "0    42744     201604  2016      4       26       201603\n",
       "1    42744     201607  2016      7       30       201603\n",
       "2    42744     201606  2016      6       28       201603\n",
       "3    42744     201605  2016      5       31       201603\n",
       "4    42744     201603  2016      3       25       201603"
      ]
     },
     "execution_count": 32,
     "metadata": {},
     "output_type": "execute_result"
    }
   ],
   "source": [
    "# рассчитываем первый месяц активности\n",
    "df.set_index('user_id', inplace=True)\n",
    "df['CohortGroup'] = df.groupby(level=0)['yearmonth'].min()\n",
    "df.reset_index(inplace=True)\n",
    "df.head()"
   ]
  },
  {
   "cell_type": "code",
   "execution_count": 33,
   "metadata": {
    "collapsed": false
   },
   "outputs": [
    {
     "data": {
      "text/html": [
       "<div>\n",
       "<table border=\"1\" class=\"dataframe\">\n",
       "  <thead>\n",
       "    <tr style=\"text-align: right;\">\n",
       "      <th></th>\n",
       "      <th>user_id</th>\n",
       "      <th>yearmonth</th>\n",
       "      <th>year</th>\n",
       "      <th>month</th>\n",
       "      <th>n_visit</th>\n",
       "      <th>CohortGroup</th>\n",
       "      <th>Cyear</th>\n",
       "      <th>Cmonth</th>\n",
       "    </tr>\n",
       "  </thead>\n",
       "  <tbody>\n",
       "    <tr>\n",
       "      <th>0</th>\n",
       "      <td>42744</td>\n",
       "      <td>201604</td>\n",
       "      <td>2016</td>\n",
       "      <td>4</td>\n",
       "      <td>26</td>\n",
       "      <td>201603</td>\n",
       "      <td>2016</td>\n",
       "      <td>3</td>\n",
       "    </tr>\n",
       "    <tr>\n",
       "      <th>1</th>\n",
       "      <td>42744</td>\n",
       "      <td>201607</td>\n",
       "      <td>2016</td>\n",
       "      <td>7</td>\n",
       "      <td>30</td>\n",
       "      <td>201603</td>\n",
       "      <td>2016</td>\n",
       "      <td>3</td>\n",
       "    </tr>\n",
       "    <tr>\n",
       "      <th>2</th>\n",
       "      <td>42744</td>\n",
       "      <td>201606</td>\n",
       "      <td>2016</td>\n",
       "      <td>6</td>\n",
       "      <td>28</td>\n",
       "      <td>201603</td>\n",
       "      <td>2016</td>\n",
       "      <td>3</td>\n",
       "    </tr>\n",
       "    <tr>\n",
       "      <th>3</th>\n",
       "      <td>42744</td>\n",
       "      <td>201605</td>\n",
       "      <td>2016</td>\n",
       "      <td>5</td>\n",
       "      <td>31</td>\n",
       "      <td>201603</td>\n",
       "      <td>2016</td>\n",
       "      <td>3</td>\n",
       "    </tr>\n",
       "    <tr>\n",
       "      <th>4</th>\n",
       "      <td>42744</td>\n",
       "      <td>201603</td>\n",
       "      <td>2016</td>\n",
       "      <td>3</td>\n",
       "      <td>25</td>\n",
       "      <td>201603</td>\n",
       "      <td>2016</td>\n",
       "      <td>3</td>\n",
       "    </tr>\n",
       "  </tbody>\n",
       "</table>\n",
       "</div>"
      ],
      "text/plain": [
       "   user_id  yearmonth  year  month  n_visit  CohortGroup  Cyear  Cmonth\n",
       "0    42744     201604  2016      4       26       201603   2016       3\n",
       "1    42744     201607  2016      7       30       201603   2016       3\n",
       "2    42744     201606  2016      6       28       201603   2016       3\n",
       "3    42744     201605  2016      5       31       201603   2016       3\n",
       "4    42744     201603  2016      3       25       201603   2016       3"
      ]
     },
     "execution_count": 33,
     "metadata": {},
     "output_type": "execute_result"
    }
   ],
   "source": [
    "df['Cyear'] = df['CohortGroup'].astype('str')\n",
    "df['Cyear'] = df['Cyear'].str[0:4].astype('int')\n",
    "df['Cmonth'] = df['CohortGroup'].astype('str')\n",
    "df['Cmonth'] = df['Cmonth'].str[4:6].astype('int')\n",
    "df[:5]"
   ]
  },
  {
   "cell_type": "code",
   "execution_count": 34,
   "metadata": {
    "collapsed": false
   },
   "outputs": [
    {
     "data": {
      "text/html": [
       "<div>\n",
       "<table border=\"1\" class=\"dataframe\">\n",
       "  <thead>\n",
       "    <tr style=\"text-align: right;\">\n",
       "      <th></th>\n",
       "      <th>user_id</th>\n",
       "      <th>yearmonth</th>\n",
       "      <th>year</th>\n",
       "      <th>month</th>\n",
       "      <th>n_visit</th>\n",
       "      <th>CohortGroup</th>\n",
       "      <th>Cyear</th>\n",
       "      <th>Cmonth</th>\n",
       "      <th>CohortPeriod</th>\n",
       "    </tr>\n",
       "  </thead>\n",
       "  <tbody>\n",
       "    <tr>\n",
       "      <th>0</th>\n",
       "      <td>42744</td>\n",
       "      <td>201604</td>\n",
       "      <td>2016</td>\n",
       "      <td>4</td>\n",
       "      <td>26</td>\n",
       "      <td>201603</td>\n",
       "      <td>2016</td>\n",
       "      <td>3</td>\n",
       "      <td>2</td>\n",
       "    </tr>\n",
       "    <tr>\n",
       "      <th>1</th>\n",
       "      <td>42744</td>\n",
       "      <td>201607</td>\n",
       "      <td>2016</td>\n",
       "      <td>7</td>\n",
       "      <td>30</td>\n",
       "      <td>201603</td>\n",
       "      <td>2016</td>\n",
       "      <td>3</td>\n",
       "      <td>5</td>\n",
       "    </tr>\n",
       "    <tr>\n",
       "      <th>2</th>\n",
       "      <td>42744</td>\n",
       "      <td>201606</td>\n",
       "      <td>2016</td>\n",
       "      <td>6</td>\n",
       "      <td>28</td>\n",
       "      <td>201603</td>\n",
       "      <td>2016</td>\n",
       "      <td>3</td>\n",
       "      <td>4</td>\n",
       "    </tr>\n",
       "    <tr>\n",
       "      <th>3</th>\n",
       "      <td>42744</td>\n",
       "      <td>201605</td>\n",
       "      <td>2016</td>\n",
       "      <td>5</td>\n",
       "      <td>31</td>\n",
       "      <td>201603</td>\n",
       "      <td>2016</td>\n",
       "      <td>3</td>\n",
       "      <td>3</td>\n",
       "    </tr>\n",
       "    <tr>\n",
       "      <th>4</th>\n",
       "      <td>42744</td>\n",
       "      <td>201603</td>\n",
       "      <td>2016</td>\n",
       "      <td>3</td>\n",
       "      <td>25</td>\n",
       "      <td>201603</td>\n",
       "      <td>2016</td>\n",
       "      <td>3</td>\n",
       "      <td>1</td>\n",
       "    </tr>\n",
       "  </tbody>\n",
       "</table>\n",
       "</div>"
      ],
      "text/plain": [
       "   user_id  yearmonth  year  month  n_visit  CohortGroup  Cyear  Cmonth  \\\n",
       "0    42744     201604  2016      4       26       201603   2016       3   \n",
       "1    42744     201607  2016      7       30       201603   2016       3   \n",
       "2    42744     201606  2016      6       28       201603   2016       3   \n",
       "3    42744     201605  2016      5       31       201603   2016       3   \n",
       "4    42744     201603  2016      3       25       201603   2016       3   \n",
       "\n",
       "   CohortPeriod  \n",
       "0             2  \n",
       "1             5  \n",
       "2             4  \n",
       "3             3  \n",
       "4             1  "
      ]
     },
     "execution_count": 34,
     "metadata": {},
     "output_type": "execute_result"
    }
   ],
   "source": [
    "# рассчитываем номер последующих активных месяцев для каждого пользователя\n",
    "df['CohortPeriod'] = (df['month'] - df['Cmonth']) + 12*(df['year'] - df['Cyear']) + 1\n",
    "df[:5]"
   ]
  },
  {
   "cell_type": "code",
   "execution_count": 35,
   "metadata": {
    "collapsed": false
   },
   "outputs": [
    {
     "data": {
      "text/html": [
       "<div>\n",
       "<table border=\"1\" class=\"dataframe\">\n",
       "  <thead>\n",
       "    <tr style=\"text-align: right;\">\n",
       "      <th></th>\n",
       "      <th></th>\n",
       "      <th></th>\n",
       "      <th>Totalvisit</th>\n",
       "      <th>TotalUsers</th>\n",
       "    </tr>\n",
       "    <tr>\n",
       "      <th>CohortGroup</th>\n",
       "      <th>yearmonth</th>\n",
       "      <th>CohortPeriod</th>\n",
       "      <th></th>\n",
       "      <th></th>\n",
       "    </tr>\n",
       "  </thead>\n",
       "  <tbody>\n",
       "    <tr>\n",
       "      <th rowspan=\"17\" valign=\"top\">201503</th>\n",
       "      <th>201503</th>\n",
       "      <th>1</th>\n",
       "      <td>34540</td>\n",
       "      <td>7226</td>\n",
       "    </tr>\n",
       "    <tr>\n",
       "      <th>201504</th>\n",
       "      <th>2</th>\n",
       "      <td>26969</td>\n",
       "      <td>3737</td>\n",
       "    </tr>\n",
       "    <tr>\n",
       "      <th>201505</th>\n",
       "      <th>3</th>\n",
       "      <td>25766</td>\n",
       "      <td>3335</td>\n",
       "    </tr>\n",
       "    <tr>\n",
       "      <th>201506</th>\n",
       "      <th>4</th>\n",
       "      <td>23811</td>\n",
       "      <td>3071</td>\n",
       "    </tr>\n",
       "    <tr>\n",
       "      <th>201507</th>\n",
       "      <th>5</th>\n",
       "      <td>21125</td>\n",
       "      <td>2585</td>\n",
       "    </tr>\n",
       "    <tr>\n",
       "      <th>201508</th>\n",
       "      <th>6</th>\n",
       "      <td>18072</td>\n",
       "      <td>2357</td>\n",
       "    </tr>\n",
       "    <tr>\n",
       "      <th>201509</th>\n",
       "      <th>7</th>\n",
       "      <td>18537</td>\n",
       "      <td>2303</td>\n",
       "    </tr>\n",
       "    <tr>\n",
       "      <th>201510</th>\n",
       "      <th>8</th>\n",
       "      <td>18785</td>\n",
       "      <td>2258</td>\n",
       "    </tr>\n",
       "    <tr>\n",
       "      <th>201511</th>\n",
       "      <th>9</th>\n",
       "      <td>17828</td>\n",
       "      <td>2118</td>\n",
       "    </tr>\n",
       "    <tr>\n",
       "      <th>201512</th>\n",
       "      <th>10</th>\n",
       "      <td>16568</td>\n",
       "      <td>2061</td>\n",
       "    </tr>\n",
       "    <tr>\n",
       "      <th>201601</th>\n",
       "      <th>11</th>\n",
       "      <td>16915</td>\n",
       "      <td>2072</td>\n",
       "    </tr>\n",
       "    <tr>\n",
       "      <th>201602</th>\n",
       "      <th>12</th>\n",
       "      <td>16975</td>\n",
       "      <td>2041</td>\n",
       "    </tr>\n",
       "    <tr>\n",
       "      <th>201603</th>\n",
       "      <th>13</th>\n",
       "      <td>17394</td>\n",
       "      <td>2003</td>\n",
       "    </tr>\n",
       "    <tr>\n",
       "      <th>201604</th>\n",
       "      <th>14</th>\n",
       "      <td>16321</td>\n",
       "      <td>1902</td>\n",
       "    </tr>\n",
       "    <tr>\n",
       "      <th>201605</th>\n",
       "      <th>15</th>\n",
       "      <td>16343</td>\n",
       "      <td>1900</td>\n",
       "    </tr>\n",
       "    <tr>\n",
       "      <th>201606</th>\n",
       "      <th>16</th>\n",
       "      <td>15313</td>\n",
       "      <td>1793</td>\n",
       "    </tr>\n",
       "    <tr>\n",
       "      <th>201607</th>\n",
       "      <th>17</th>\n",
       "      <td>14215</td>\n",
       "      <td>1699</td>\n",
       "    </tr>\n",
       "    <tr>\n",
       "      <th rowspan=\"13\" valign=\"top\">201504</th>\n",
       "      <th>201504</th>\n",
       "      <th>1</th>\n",
       "      <td>7753</td>\n",
       "      <td>4520</td>\n",
       "    </tr>\n",
       "    <tr>\n",
       "      <th>201505</th>\n",
       "      <th>2</th>\n",
       "      <td>5516</td>\n",
       "      <td>1225</td>\n",
       "    </tr>\n",
       "    <tr>\n",
       "      <th>201506</th>\n",
       "      <th>3</th>\n",
       "      <td>4509</td>\n",
       "      <td>957</td>\n",
       "    </tr>\n",
       "    <tr>\n",
       "      <th>201507</th>\n",
       "      <th>4</th>\n",
       "      <td>3612</td>\n",
       "      <td>700</td>\n",
       "    </tr>\n",
       "    <tr>\n",
       "      <th>201508</th>\n",
       "      <th>5</th>\n",
       "      <td>3269</td>\n",
       "      <td>605</td>\n",
       "    </tr>\n",
       "    <tr>\n",
       "      <th>201509</th>\n",
       "      <th>6</th>\n",
       "      <td>3325</td>\n",
       "      <td>618</td>\n",
       "    </tr>\n",
       "    <tr>\n",
       "      <th>201510</th>\n",
       "      <th>7</th>\n",
       "      <td>3413</td>\n",
       "      <td>598</td>\n",
       "    </tr>\n",
       "    <tr>\n",
       "      <th>201511</th>\n",
       "      <th>8</th>\n",
       "      <td>3445</td>\n",
       "      <td>548</td>\n",
       "    </tr>\n",
       "    <tr>\n",
       "      <th>201512</th>\n",
       "      <th>9</th>\n",
       "      <td>3102</td>\n",
       "      <td>531</td>\n",
       "    </tr>\n",
       "    <tr>\n",
       "      <th>201601</th>\n",
       "      <th>10</th>\n",
       "      <td>3348</td>\n",
       "      <td>582</td>\n",
       "    </tr>\n",
       "    <tr>\n",
       "      <th>201602</th>\n",
       "      <th>11</th>\n",
       "      <td>3398</td>\n",
       "      <td>576</td>\n",
       "    </tr>\n",
       "    <tr>\n",
       "      <th>201603</th>\n",
       "      <th>12</th>\n",
       "      <td>3519</td>\n",
       "      <td>543</td>\n",
       "    </tr>\n",
       "    <tr>\n",
       "      <th>201604</th>\n",
       "      <th>13</th>\n",
       "      <td>3099</td>\n",
       "      <td>552</td>\n",
       "    </tr>\n",
       "  </tbody>\n",
       "</table>\n",
       "</div>"
      ],
      "text/plain": [
       "                                    Totalvisit  TotalUsers\n",
       "CohortGroup yearmonth CohortPeriod                        \n",
       "201503      201503    1                  34540        7226\n",
       "            201504    2                  26969        3737\n",
       "            201505    3                  25766        3335\n",
       "            201506    4                  23811        3071\n",
       "            201507    5                  21125        2585\n",
       "            201508    6                  18072        2357\n",
       "            201509    7                  18537        2303\n",
       "            201510    8                  18785        2258\n",
       "            201511    9                  17828        2118\n",
       "            201512    10                 16568        2061\n",
       "            201601    11                 16915        2072\n",
       "            201602    12                 16975        2041\n",
       "            201603    13                 17394        2003\n",
       "            201604    14                 16321        1902\n",
       "            201605    15                 16343        1900\n",
       "            201606    16                 15313        1793\n",
       "            201607    17                 14215        1699\n",
       "201504      201504    1                   7753        4520\n",
       "            201505    2                   5516        1225\n",
       "            201506    3                   4509         957\n",
       "            201507    4                   3612         700\n",
       "            201508    5                   3269         605\n",
       "            201509    6                   3325         618\n",
       "            201510    7                   3413         598\n",
       "            201511    8                   3445         548\n",
       "            201512    9                   3102         531\n",
       "            201601    10                  3348         582\n",
       "            201602    11                  3398         576\n",
       "            201603    12                  3519         543\n",
       "            201604    13                  3099         552"
      ]
     },
     "execution_count": 35,
     "metadata": {},
     "output_type": "execute_result"
    }
   ],
   "source": [
    "grouped = df.groupby(['CohortGroup', 'yearmonth', 'CohortPeriod'])\n",
    "# подсчет уникальных пользователей и посещений за период в когорте\n",
    "cohorts = grouped.agg({'user_id': pd.Series.nunique,\n",
    "                       'n_visit': np.sum,\n",
    "                    })\n",
    "\n",
    "cohorts.rename(columns={'user_id': 'TotalUsers',\n",
    "                        'n_visit': 'Totalvisit'}, inplace=True)\n",
    "cohorts[0:30]"
   ]
  },
  {
   "cell_type": "code",
   "execution_count": 36,
   "metadata": {
    "collapsed": false
   },
   "outputs": [
    {
     "data": {
      "text/plain": [
       "CohortGroup\n",
       "201503    7226\n",
       "201504    4520\n",
       "201505    4715\n",
       "201506    3462\n",
       "201507    1886\n",
       "Name: TotalUsers, dtype: int64"
      ]
     },
     "execution_count": 36,
     "metadata": {},
     "output_type": "execute_result"
    }
   ],
   "source": [
    "cohorts.reset_index(inplace=True)\n",
    "cohorts.set_index(['CohortGroup', 'CohortPeriod'], inplace=True)\n",
    "\n",
    "# общий размер каждой когорты\n",
    "cohort_group_size = cohorts['TotalUsers'].groupby(level=0).first()\n",
    "cohort_group_size.head()"
   ]
  },
  {
   "cell_type": "code",
   "execution_count": 37,
   "metadata": {
    "collapsed": false
   },
   "outputs": [
    {
     "data": {
      "text/plain": [
       "CohortGroup  CohortPeriod\n",
       "201503       1               7226\n",
       "             2               3737\n",
       "             3               3335\n",
       "             4               3071\n",
       "             5               2585\n",
       "Name: TotalUsers, dtype: int64"
      ]
     },
     "execution_count": 37,
     "metadata": {},
     "output_type": "execute_result"
    }
   ],
   "source": [
    "cohorts['TotalUsers'].head()"
   ]
  },
  {
   "cell_type": "code",
   "execution_count": 38,
   "metadata": {
    "collapsed": false
   },
   "outputs": [
    {
     "data": {
      "text/html": [
       "<div>\n",
       "<table border=\"1\" class=\"dataframe\">\n",
       "  <thead>\n",
       "    <tr style=\"text-align: right;\">\n",
       "      <th>CohortGroup</th>\n",
       "      <th>201503</th>\n",
       "      <th>201504</th>\n",
       "      <th>201505</th>\n",
       "      <th>201506</th>\n",
       "      <th>201507</th>\n",
       "      <th>201508</th>\n",
       "      <th>201509</th>\n",
       "      <th>201510</th>\n",
       "      <th>201511</th>\n",
       "      <th>201512</th>\n",
       "      <th>201601</th>\n",
       "      <th>201602</th>\n",
       "      <th>201603</th>\n",
       "      <th>201604</th>\n",
       "      <th>201605</th>\n",
       "      <th>201606</th>\n",
       "      <th>201607</th>\n",
       "    </tr>\n",
       "    <tr>\n",
       "      <th>CohortPeriod</th>\n",
       "      <th></th>\n",
       "      <th></th>\n",
       "      <th></th>\n",
       "      <th></th>\n",
       "      <th></th>\n",
       "      <th></th>\n",
       "      <th></th>\n",
       "      <th></th>\n",
       "      <th></th>\n",
       "      <th></th>\n",
       "      <th></th>\n",
       "      <th></th>\n",
       "      <th></th>\n",
       "      <th></th>\n",
       "      <th></th>\n",
       "      <th></th>\n",
       "      <th></th>\n",
       "    </tr>\n",
       "  </thead>\n",
       "  <tbody>\n",
       "    <tr>\n",
       "      <th>1</th>\n",
       "      <td>7226.0</td>\n",
       "      <td>4520.0</td>\n",
       "      <td>4715.0</td>\n",
       "      <td>3462.0</td>\n",
       "      <td>1886.0</td>\n",
       "      <td>1641.0</td>\n",
       "      <td>2024.0</td>\n",
       "      <td>2431.0</td>\n",
       "      <td>2376.0</td>\n",
       "      <td>2462.0</td>\n",
       "      <td>2826.0</td>\n",
       "      <td>2934.0</td>\n",
       "      <td>3262.0</td>\n",
       "      <td>2964.0</td>\n",
       "      <td>3354.0</td>\n",
       "      <td>3329.0</td>\n",
       "      <td>3025.0</td>\n",
       "    </tr>\n",
       "    <tr>\n",
       "      <th>2</th>\n",
       "      <td>3737.0</td>\n",
       "      <td>1225.0</td>\n",
       "      <td>1074.0</td>\n",
       "      <td>678.0</td>\n",
       "      <td>667.0</td>\n",
       "      <td>628.0</td>\n",
       "      <td>812.0</td>\n",
       "      <td>921.0</td>\n",
       "      <td>932.0</td>\n",
       "      <td>997.0</td>\n",
       "      <td>1191.0</td>\n",
       "      <td>1186.0</td>\n",
       "      <td>1361.0</td>\n",
       "      <td>1245.0</td>\n",
       "      <td>1432.0</td>\n",
       "      <td>1331.0</td>\n",
       "      <td>NaN</td>\n",
       "    </tr>\n",
       "    <tr>\n",
       "      <th>3</th>\n",
       "      <td>3335.0</td>\n",
       "      <td>957.0</td>\n",
       "      <td>663.0</td>\n",
       "      <td>490.0</td>\n",
       "      <td>507.0</td>\n",
       "      <td>434.0</td>\n",
       "      <td>587.0</td>\n",
       "      <td>681.0</td>\n",
       "      <td>674.0</td>\n",
       "      <td>737.0</td>\n",
       "      <td>864.0</td>\n",
       "      <td>868.0</td>\n",
       "      <td>1034.0</td>\n",
       "      <td>910.0</td>\n",
       "      <td>950.0</td>\n",
       "      <td>NaN</td>\n",
       "      <td>NaN</td>\n",
       "    </tr>\n",
       "    <tr>\n",
       "      <th>4</th>\n",
       "      <td>3071.0</td>\n",
       "      <td>700.0</td>\n",
       "      <td>573.0</td>\n",
       "      <td>495.0</td>\n",
       "      <td>432.0</td>\n",
       "      <td>388.0</td>\n",
       "      <td>495.0</td>\n",
       "      <td>637.0</td>\n",
       "      <td>597.0</td>\n",
       "      <td>652.0</td>\n",
       "      <td>706.0</td>\n",
       "      <td>764.0</td>\n",
       "      <td>819.0</td>\n",
       "      <td>701.0</td>\n",
       "      <td>NaN</td>\n",
       "      <td>NaN</td>\n",
       "      <td>NaN</td>\n",
       "    </tr>\n",
       "    <tr>\n",
       "      <th>5</th>\n",
       "      <td>2585.0</td>\n",
       "      <td>605.0</td>\n",
       "      <td>565.0</td>\n",
       "      <td>455.0</td>\n",
       "      <td>385.0</td>\n",
       "      <td>338.0</td>\n",
       "      <td>469.0</td>\n",
       "      <td>547.0</td>\n",
       "      <td>542.0</td>\n",
       "      <td>554.0</td>\n",
       "      <td>661.0</td>\n",
       "      <td>671.0</td>\n",
       "      <td>715.0</td>\n",
       "      <td>NaN</td>\n",
       "      <td>NaN</td>\n",
       "      <td>NaN</td>\n",
       "      <td>NaN</td>\n",
       "    </tr>\n",
       "  </tbody>\n",
       "</table>\n",
       "</div>"
      ],
      "text/plain": [
       "CohortGroup   201503  201504  201505  201506  201507  201508  201509  201510  \\\n",
       "CohortPeriod                                                                   \n",
       "1             7226.0  4520.0  4715.0  3462.0  1886.0  1641.0  2024.0  2431.0   \n",
       "2             3737.0  1225.0  1074.0   678.0   667.0   628.0   812.0   921.0   \n",
       "3             3335.0   957.0   663.0   490.0   507.0   434.0   587.0   681.0   \n",
       "4             3071.0   700.0   573.0   495.0   432.0   388.0   495.0   637.0   \n",
       "5             2585.0   605.0   565.0   455.0   385.0   338.0   469.0   547.0   \n",
       "\n",
       "CohortGroup   201511  201512  201601  201602  201603  201604  201605  201606  \\\n",
       "CohortPeriod                                                                   \n",
       "1             2376.0  2462.0  2826.0  2934.0  3262.0  2964.0  3354.0  3329.0   \n",
       "2              932.0   997.0  1191.0  1186.0  1361.0  1245.0  1432.0  1331.0   \n",
       "3              674.0   737.0   864.0   868.0  1034.0   910.0   950.0     NaN   \n",
       "4              597.0   652.0   706.0   764.0   819.0   701.0     NaN     NaN   \n",
       "5              542.0   554.0   661.0   671.0   715.0     NaN     NaN     NaN   \n",
       "\n",
       "CohortGroup   201607  \n",
       "CohortPeriod          \n",
       "1             3025.0  \n",
       "2                NaN  \n",
       "3                NaN  \n",
       "4                NaN  \n",
       "5                NaN  "
      ]
     },
     "execution_count": 38,
     "metadata": {},
     "output_type": "execute_result"
    }
   ],
   "source": [
    "# когорты в привычном виде абсолютные значения\n",
    "cohorts['TotalUsers'].unstack(0).head()"
   ]
  },
  {
   "cell_type": "code",
   "execution_count": 39,
   "metadata": {
    "collapsed": false
   },
   "outputs": [
    {
     "data": {
      "text/html": [
       "<div>\n",
       "<table border=\"1\" class=\"dataframe\">\n",
       "  <thead>\n",
       "    <tr style=\"text-align: right;\">\n",
       "      <th>CohortGroup</th>\n",
       "      <th>201503</th>\n",
       "      <th>201504</th>\n",
       "      <th>201505</th>\n",
       "      <th>201506</th>\n",
       "      <th>201507</th>\n",
       "      <th>201508</th>\n",
       "      <th>201509</th>\n",
       "      <th>201510</th>\n",
       "      <th>201511</th>\n",
       "      <th>201512</th>\n",
       "      <th>201601</th>\n",
       "      <th>201602</th>\n",
       "      <th>201603</th>\n",
       "      <th>201604</th>\n",
       "      <th>201605</th>\n",
       "      <th>201606</th>\n",
       "      <th>201607</th>\n",
       "    </tr>\n",
       "    <tr>\n",
       "      <th>CohortPeriod</th>\n",
       "      <th></th>\n",
       "      <th></th>\n",
       "      <th></th>\n",
       "      <th></th>\n",
       "      <th></th>\n",
       "      <th></th>\n",
       "      <th></th>\n",
       "      <th></th>\n",
       "      <th></th>\n",
       "      <th></th>\n",
       "      <th></th>\n",
       "      <th></th>\n",
       "      <th></th>\n",
       "      <th></th>\n",
       "      <th></th>\n",
       "      <th></th>\n",
       "      <th></th>\n",
       "    </tr>\n",
       "  </thead>\n",
       "  <tbody>\n",
       "    <tr>\n",
       "      <th>1</th>\n",
       "      <td>1.000000</td>\n",
       "      <td>1.000000</td>\n",
       "      <td>1.000000</td>\n",
       "      <td>1.000000</td>\n",
       "      <td>1.000000</td>\n",
       "      <td>1.000000</td>\n",
       "      <td>1.000000</td>\n",
       "      <td>1.000000</td>\n",
       "      <td>1.000000</td>\n",
       "      <td>1.000000</td>\n",
       "      <td>1.000000</td>\n",
       "      <td>1.000000</td>\n",
       "      <td>1.000000</td>\n",
       "      <td>1.000000</td>\n",
       "      <td>1.000000</td>\n",
       "      <td>1.00000</td>\n",
       "      <td>1.0</td>\n",
       "    </tr>\n",
       "    <tr>\n",
       "      <th>2</th>\n",
       "      <td>0.517160</td>\n",
       "      <td>0.271018</td>\n",
       "      <td>0.227784</td>\n",
       "      <td>0.195841</td>\n",
       "      <td>0.353659</td>\n",
       "      <td>0.382693</td>\n",
       "      <td>0.401186</td>\n",
       "      <td>0.378856</td>\n",
       "      <td>0.392256</td>\n",
       "      <td>0.404955</td>\n",
       "      <td>0.421444</td>\n",
       "      <td>0.404226</td>\n",
       "      <td>0.417229</td>\n",
       "      <td>0.420040</td>\n",
       "      <td>0.426953</td>\n",
       "      <td>0.39982</td>\n",
       "      <td>NaN</td>\n",
       "    </tr>\n",
       "    <tr>\n",
       "      <th>3</th>\n",
       "      <td>0.461528</td>\n",
       "      <td>0.211726</td>\n",
       "      <td>0.140615</td>\n",
       "      <td>0.141537</td>\n",
       "      <td>0.268823</td>\n",
       "      <td>0.264473</td>\n",
       "      <td>0.290020</td>\n",
       "      <td>0.280132</td>\n",
       "      <td>0.283670</td>\n",
       "      <td>0.299350</td>\n",
       "      <td>0.305732</td>\n",
       "      <td>0.295842</td>\n",
       "      <td>0.316983</td>\n",
       "      <td>0.307018</td>\n",
       "      <td>0.283244</td>\n",
       "      <td>NaN</td>\n",
       "      <td>NaN</td>\n",
       "    </tr>\n",
       "    <tr>\n",
       "      <th>4</th>\n",
       "      <td>0.424993</td>\n",
       "      <td>0.154867</td>\n",
       "      <td>0.121527</td>\n",
       "      <td>0.142981</td>\n",
       "      <td>0.229056</td>\n",
       "      <td>0.236441</td>\n",
       "      <td>0.244565</td>\n",
       "      <td>0.262032</td>\n",
       "      <td>0.251263</td>\n",
       "      <td>0.264825</td>\n",
       "      <td>0.249823</td>\n",
       "      <td>0.260395</td>\n",
       "      <td>0.251073</td>\n",
       "      <td>0.236505</td>\n",
       "      <td>NaN</td>\n",
       "      <td>NaN</td>\n",
       "      <td>NaN</td>\n",
       "    </tr>\n",
       "    <tr>\n",
       "      <th>5</th>\n",
       "      <td>0.357736</td>\n",
       "      <td>0.133850</td>\n",
       "      <td>0.119830</td>\n",
       "      <td>0.131427</td>\n",
       "      <td>0.204136</td>\n",
       "      <td>0.205972</td>\n",
       "      <td>0.231719</td>\n",
       "      <td>0.225010</td>\n",
       "      <td>0.228114</td>\n",
       "      <td>0.225020</td>\n",
       "      <td>0.233900</td>\n",
       "      <td>0.228698</td>\n",
       "      <td>0.219191</td>\n",
       "      <td>NaN</td>\n",
       "      <td>NaN</td>\n",
       "      <td>NaN</td>\n",
       "      <td>NaN</td>\n",
       "    </tr>\n",
       "    <tr>\n",
       "      <th>6</th>\n",
       "      <td>0.326183</td>\n",
       "      <td>0.136726</td>\n",
       "      <td>0.110498</td>\n",
       "      <td>0.127383</td>\n",
       "      <td>0.194592</td>\n",
       "      <td>0.198050</td>\n",
       "      <td>0.228755</td>\n",
       "      <td>0.217606</td>\n",
       "      <td>0.210859</td>\n",
       "      <td>0.216491</td>\n",
       "      <td>0.209130</td>\n",
       "      <td>0.200068</td>\n",
       "      <td>NaN</td>\n",
       "      <td>NaN</td>\n",
       "      <td>NaN</td>\n",
       "      <td>NaN</td>\n",
       "      <td>NaN</td>\n",
       "    </tr>\n",
       "    <tr>\n",
       "      <th>7</th>\n",
       "      <td>0.318710</td>\n",
       "      <td>0.132301</td>\n",
       "      <td>0.106469</td>\n",
       "      <td>0.116407</td>\n",
       "      <td>0.190880</td>\n",
       "      <td>0.193784</td>\n",
       "      <td>0.210474</td>\n",
       "      <td>0.197450</td>\n",
       "      <td>0.203704</td>\n",
       "      <td>0.200244</td>\n",
       "      <td>0.185421</td>\n",
       "      <td>NaN</td>\n",
       "      <td>NaN</td>\n",
       "      <td>NaN</td>\n",
       "      <td>NaN</td>\n",
       "      <td>NaN</td>\n",
       "      <td>NaN</td>\n",
       "    </tr>\n",
       "    <tr>\n",
       "      <th>8</th>\n",
       "      <td>0.312483</td>\n",
       "      <td>0.121239</td>\n",
       "      <td>0.104348</td>\n",
       "      <td>0.110630</td>\n",
       "      <td>0.178155</td>\n",
       "      <td>0.184034</td>\n",
       "      <td>0.194664</td>\n",
       "      <td>0.198272</td>\n",
       "      <td>0.187710</td>\n",
       "      <td>0.179123</td>\n",
       "      <td>NaN</td>\n",
       "      <td>NaN</td>\n",
       "      <td>NaN</td>\n",
       "      <td>NaN</td>\n",
       "      <td>NaN</td>\n",
       "      <td>NaN</td>\n",
       "      <td>NaN</td>\n",
       "    </tr>\n",
       "    <tr>\n",
       "      <th>9</th>\n",
       "      <td>0.293108</td>\n",
       "      <td>0.117478</td>\n",
       "      <td>0.103499</td>\n",
       "      <td>0.112652</td>\n",
       "      <td>0.165960</td>\n",
       "      <td>0.165753</td>\n",
       "      <td>0.195158</td>\n",
       "      <td>0.173591</td>\n",
       "      <td>0.174242</td>\n",
       "      <td>NaN</td>\n",
       "      <td>NaN</td>\n",
       "      <td>NaN</td>\n",
       "      <td>NaN</td>\n",
       "      <td>NaN</td>\n",
       "      <td>NaN</td>\n",
       "      <td>NaN</td>\n",
       "      <td>NaN</td>\n",
       "    </tr>\n",
       "    <tr>\n",
       "      <th>10</th>\n",
       "      <td>0.285220</td>\n",
       "      <td>0.128761</td>\n",
       "      <td>0.103924</td>\n",
       "      <td>0.113518</td>\n",
       "      <td>0.164369</td>\n",
       "      <td>0.176112</td>\n",
       "      <td>0.175395</td>\n",
       "      <td>0.169478</td>\n",
       "      <td>NaN</td>\n",
       "      <td>NaN</td>\n",
       "      <td>NaN</td>\n",
       "      <td>NaN</td>\n",
       "      <td>NaN</td>\n",
       "      <td>NaN</td>\n",
       "      <td>NaN</td>\n",
       "      <td>NaN</td>\n",
       "      <td>NaN</td>\n",
       "    </tr>\n",
       "  </tbody>\n",
       "</table>\n",
       "</div>"
      ],
      "text/plain": [
       "CohortGroup     201503    201504    201505    201506    201507    201508  \\\n",
       "CohortPeriod                                                               \n",
       "1             1.000000  1.000000  1.000000  1.000000  1.000000  1.000000   \n",
       "2             0.517160  0.271018  0.227784  0.195841  0.353659  0.382693   \n",
       "3             0.461528  0.211726  0.140615  0.141537  0.268823  0.264473   \n",
       "4             0.424993  0.154867  0.121527  0.142981  0.229056  0.236441   \n",
       "5             0.357736  0.133850  0.119830  0.131427  0.204136  0.205972   \n",
       "6             0.326183  0.136726  0.110498  0.127383  0.194592  0.198050   \n",
       "7             0.318710  0.132301  0.106469  0.116407  0.190880  0.193784   \n",
       "8             0.312483  0.121239  0.104348  0.110630  0.178155  0.184034   \n",
       "9             0.293108  0.117478  0.103499  0.112652  0.165960  0.165753   \n",
       "10            0.285220  0.128761  0.103924  0.113518  0.164369  0.176112   \n",
       "\n",
       "CohortGroup     201509    201510    201511    201512    201601    201602  \\\n",
       "CohortPeriod                                                               \n",
       "1             1.000000  1.000000  1.000000  1.000000  1.000000  1.000000   \n",
       "2             0.401186  0.378856  0.392256  0.404955  0.421444  0.404226   \n",
       "3             0.290020  0.280132  0.283670  0.299350  0.305732  0.295842   \n",
       "4             0.244565  0.262032  0.251263  0.264825  0.249823  0.260395   \n",
       "5             0.231719  0.225010  0.228114  0.225020  0.233900  0.228698   \n",
       "6             0.228755  0.217606  0.210859  0.216491  0.209130  0.200068   \n",
       "7             0.210474  0.197450  0.203704  0.200244  0.185421       NaN   \n",
       "8             0.194664  0.198272  0.187710  0.179123       NaN       NaN   \n",
       "9             0.195158  0.173591  0.174242       NaN       NaN       NaN   \n",
       "10            0.175395  0.169478       NaN       NaN       NaN       NaN   \n",
       "\n",
       "CohortGroup     201603    201604    201605   201606  201607  \n",
       "CohortPeriod                                                 \n",
       "1             1.000000  1.000000  1.000000  1.00000     1.0  \n",
       "2             0.417229  0.420040  0.426953  0.39982     NaN  \n",
       "3             0.316983  0.307018  0.283244      NaN     NaN  \n",
       "4             0.251073  0.236505       NaN      NaN     NaN  \n",
       "5             0.219191       NaN       NaN      NaN     NaN  \n",
       "6                  NaN       NaN       NaN      NaN     NaN  \n",
       "7                  NaN       NaN       NaN      NaN     NaN  \n",
       "8                  NaN       NaN       NaN      NaN     NaN  \n",
       "9                  NaN       NaN       NaN      NaN     NaN  \n",
       "10                 NaN       NaN       NaN      NaN     NaN  "
      ]
     },
     "execution_count": 39,
     "metadata": {},
     "output_type": "execute_result"
    }
   ],
   "source": [
    "# когорты в процентах\n",
    "user_retention = cohorts['TotalUsers'].unstack(0).divide(cohort_group_size, axis=1)\n",
    "user_retention.head(10)"
   ]
  },
  {
   "cell_type": "markdown",
   "metadata": {},
   "source": [
    "Следующая визуализация показывает, что во второй/третий месяц жизни 'отваливается' большая часть пользователей "
   ]
  },
  {
   "cell_type": "code",
   "execution_count": 40,
   "metadata": {
    "collapsed": false
   },
   "outputs": [
    {
     "data": {
      "image/png": "[encoded data removed]",
      "text/plain": [
       "<matplotlib.figure.Figure at 0x12e756e48>"
      ]
     },
     "metadata": {},
     "output_type": "display_data"
    }
   ],
   "source": [
    "user_retention[[201503, 201504, 201505, 201506, 201507, 201508, 201509, 201510, 201511, 201512, 201601, 201602, 201603, 201604, 201605]].plot(figsize=(15,6))\n",
    "plt.title('Cohorts: User Retention(Projects_Tracking)')\n",
    "plt.xticks(np.arange(1, 20.1, 1))\n",
    "plt.xlim(1, 20)\n",
    "plt.ylabel('% of Cohort Purchasing');"
   ]
  },
  {
   "cell_type": "code",
   "execution_count": 41,
   "metadata": {
    "collapsed": false,
    "scrolled": false
   },
   "outputs": [
    {
     "data": {
      "image/png": "[encoded data removed]",
      "text/plain": [
       "<matplotlib.figure.Figure at 0x1269c4b70>"
      ]
     },
     "metadata": {},
     "output_type": "display_data"
    }
   ],
   "source": [
    "import seaborn as sns\n",
    "sns.set(style='white')\n",
    "\n",
    "plt.figure(figsize=(12, 8))\n",
    "plt.title('Cohorts: User Retention (Projects_Tracking)')\n",
    "sns.heatmap(user_retention.T, mask=user_retention.T.isnull(), annot=True, fmt='.0%');"
   ]
  },
  {
   "cell_type": "markdown",
   "metadata": {},
   "source": [
    "Примерно с пятого месяца пользователи перестают 'отваливаться', остается более менее стабильная группа пользователей, её и возьмем для исследования активности"
   ]
  },
  {
   "cell_type": "code",
   "execution_count": 47,
   "metadata": {
    "collapsed": false
   },
   "outputs": [],
   "source": [
    "fivecohort = df['CohortPeriod'] == 5\n",
    "fivecoh = df[fivecohort]"
   ]
  },
  {
   "cell_type": "markdown",
   "metadata": {},
   "source": [
    "Построим распределение пользователей по количеству дней в месяц"
   ]
  },
  {
   "cell_type": "code",
   "execution_count": 48,
   "metadata": {
    "collapsed": false
   },
   "outputs": [
    {
     "data": {
      "image/png": "[encoded data removed]",
      "text/plain": [
       "<matplotlib.figure.Figure at 0x129484438>"
      ]
     },
     "metadata": {},
     "output_type": "display_data"
    }
   ],
   "source": [
    "plt.hist(fivecoh['n_visit'],30)\n",
    "plt.title(\"Histogram\")\n",
    "plt.xlabel(\"num_day_visit\")\n",
    "plt.ylabel(\"Count users\")\n",
    "\n",
    "fig = plt.gcf()"
   ]
  },
  {
   "cell_type": "code",
   "execution_count": 49,
   "metadata": {
    "collapsed": false
   },
   "outputs": [
    {
     "data": {
      "text/plain": [
       "{'boxes': [<matplotlib.lines.Line2D at 0x127a2b470>],\n",
       " 'caps': [<matplotlib.lines.Line2D at 0x127a1ef28>,\n",
       "  <matplotlib.lines.Line2D at 0x129490eb8>],\n",
       " 'fliers': [<matplotlib.lines.Line2D at 0x127a29f98>],\n",
       " 'means': [],\n",
       " 'medians': [<matplotlib.lines.Line2D at 0x127a29048>],\n",
       " 'whiskers': [<matplotlib.lines.Line2D at 0x127a2b240>,\n",
       "  <matplotlib.lines.Line2D at 0x127a1edd8>]}"
      ]
     },
     "execution_count": 49,
     "metadata": {},
     "output_type": "execute_result"
    },
    {
     "data": {
      "image/png": "[encoded data removed]",
      "text/plain": [
       "<matplotlib.figure.Figure at 0x12948cc50>"
      ]
     },
     "metadata": {},
     "output_type": "display_data"
    }
   ],
   "source": [
    "fivecoh.boxplot(column='n_visit',return_type = 'dict')"
   ]
  },
  {
   "cell_type": "markdown",
   "metadata": {},
   "source": [
    "Вывод: Пользователя,который заходит на инструмент 4 и более дня каждый месяц можно считать активным."
   ]
  }
 ],
 "metadata": {
  "kernelspec": {
   "display_name": "Python [Root]",
   "language": "python",
   "name": "Python [Root]"
  },
  "language_info": {
   "codemirror_mode": {
    "name": "ipython",
    "version": 3
   },
   "file_extension": ".py",
   "mimetype": "text/x-python",
   "name": "python",
   "nbconvert_exporter": "python",
   "pygments_lexer": "ipython3",
   "version": "3.5.2"
  }
 },
 "nbformat": 4,
 "nbformat_minor": 2
}
